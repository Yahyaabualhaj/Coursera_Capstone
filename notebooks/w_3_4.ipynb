{
 "cells": [
  {
   "cell_type": "code",
   "execution_count": 1,
   "outputs": [
    {
     "name": "stdout",
     "text": [
      "Libraries imported.\n"
     ],
     "output_type": "stream"
    }
   ],
   "source": [
    "import numpy as np # library to handle data in a vectorized manner\n",
    "\n",
    "import pandas as pd # library for data analsysis\n",
    "pd.set_option('display.max_columns', None)\n",
    "pd.set_option('display.max_rows', None)\n",
    "\n",
    "import json # library to handle JSON files\n",
    "\n",
    "#!conda install -c conda-forge geopy --yes # uncomment this line if you haven't completed the Foursquare API lab\n",
    "from geopy.geocoders import Nominatim # convert an address into latitude and longitude values\n",
    "\n",
    "import requests # library to handle requests\n",
    "from pandas.io.json import json_normalize # tranform JSON file into a pandas dataframe\n",
    "\n",
    "# Matplotlib and associated plotting modules\n",
    "import matplotlib.cm as cm\n",
    "import matplotlib.colors as colors\n",
    "\n",
    "# import k-means from clustering stage\n",
    "from sklearn.cluster import KMeans\n",
    "\n",
    "#!conda install -c conda-forge folium=0.5.0 --yes # uncomment this line if you haven't completed the Foursquare API lab\n",
    "import folium # map rendering library\n",
    "\n",
    "print('Libraries imported.')"
   ],
   "metadata": {
    "collapsed": false,
    "pycharm": {
     "name": "#%%\n",
     "is_executing": false
    }
   }
  },
  {
   "cell_type": "code",
   "execution_count": 1,
   "outputs": [],
   "source": [],
   "metadata": {
    "collapsed": false,
    "pycharm": {
     "name": "#%%\n",
     "is_executing": false
    }
   }
  },
  {
   "cell_type": "markdown",
   "source": [
    "1 . To import the table (Scrape) from  Wikipedia page and build Dataframe.\n",
    " "
   ],
   "metadata": {
    "collapsed": false
   }
  },
  {
   "cell_type": "code",
   "execution_count": 2,
   "outputs": [
    {
     "name": "stdout",
     "text": [
      "The number of (rows,cols) for [df] : (288, 3) \n"
     ],
     "output_type": "stream"
    }
   ],
   "source": [
    "df = pd.read_html(\"https://en.wikipedia.org/wiki/List_of_postal_codes_of_Canada:_M\")[0]\n",
    "print(f'The number of (rows,cols) for [df] : {df.shape} ')"
   ],
   "metadata": {
    "collapsed": false,
    "pycharm": {
     "name": "#%%\n",
     "is_executing": false
    }
   }
  },
  {
   "cell_type": "markdown",
   "source": [
    "2. Ignore cells with a borough that is Not assigned."
   ],
   "metadata": {
    "collapsed": false
   }
  },
  {
   "cell_type": "code",
   "execution_count": 3,
   "outputs": [
    {
     "name": "stdout",
     "text": [
      "The number of (rows,cols) for [df1] : (211, 3) \n"
     ],
     "output_type": "stream"
    }
   ],
   "source": [
    "df1 = df[df['Borough'] != 'Not assigned']\n",
    "\n",
    "postcodes = df1['Postcode'].unique()\n",
    "print(f'The number of (rows,cols) for [df1] : {df1.shape} ')"
   ],
   "metadata": {
    "collapsed": false,
    "pycharm": {
     "name": "#%%\n",
     "is_executing": false
    }
   }
  },
  {
   "cell_type": "markdown",
   "source": [
    "3. To combine all neighborhoods for the same postcode in same row separated with comma."
   ],
   "metadata": {
    "collapsed": false
   }
  },
  {
   "cell_type": "code",
   "execution_count": 4,
   "outputs": [
    {
     "name": "stdout",
     "text": [
      "The number of (rows,cols) for [df_cleaned] : (103, 3) \n"
     ],
     "output_type": "stream"
    },
    {
     "name": "stderr",
     "text": [
      "/home/yahya/anaconda3/envs/capstone_project_data_science/lib/python3.7/site-packages/pandas/core/indexing.py:202: SettingWithCopyWarning: \nA value is trying to be set on a copy of a slice from a DataFrame\n\nSee the caveats in the documentation: http://pandas.pydata.org/pandas-docs/stable/user_guide/indexing.html#returning-a-view-versus-a-copy\n  self._setitem_with_indexer(indexer, value)\n/home/yahya/anaconda3/envs/capstone_project_data_science/lib/python3.7/site-packages/ipykernel_launcher.py:9: SettingWithCopyWarning: \nA value is trying to be set on a copy of a slice from a DataFrame\n\nSee the caveats in the documentation: http://pandas.pydata.org/pandas-docs/stable/user_guide/indexing.html#returning-a-view-versus-a-copy\n  if __name__ == '__main__':\n"
     ],
     "output_type": "stream"
    }
   ],
   "source": [
    "df_cleaned = pd.DataFrame({'Postcode':postcodes,\n",
    "                     'Borough':[df1[df1['Postcode']==x].iloc[0,1]for x in postcodes ]})\n",
    "post_list = []\n",
    "postcode_joined = None\n",
    "for postcode in postcodes:\n",
    "    df_cond = df1[df1['Postcode'] == postcode]\n",
    "    # if neighborhood is  \"Not assigned\" then change it to be same as borough. \n",
    "    if str(df_cond.iloc[0,2]) == 'Not assigned':\n",
    "        df1[df1['Postcode'] == postcode].iloc[0,2] = df_cond.iloc[0,1]\n",
    "        \n",
    "    length = len(df1[df1['Postcode'] == postcode])\n",
    "    for val in range(0,length):\n",
    "        \n",
    "        if val == 0:\n",
    "            postcode_joined = str(df1[df1['Postcode'] == postcode].iloc[0,2])\n",
    "        else:\n",
    "            postcode_joined += ', '+ str(df1[df1['Postcode'] == postcode].iloc[val,2])\n",
    "    post_list.append(postcode_joined)\n",
    "\n",
    "df_cleaned['Neighbourhood'] = post_list              \n",
    "print(f'The number of (rows,cols) for [df_cleaned] : {df_cleaned.shape} ')\n"
   ],
   "metadata": {
    "collapsed": false,
    "pycharm": {
     "name": "#%%\n",
     "is_executing": false
    }
   }
  },
  {
   "cell_type": "markdown",
   "source": [
    "Read the locations csv file and build dataframe.\n"
   ],
   "metadata": {
    "collapsed": false
   }
  },
  {
   "cell_type": "code",
   "execution_count": 5,
   "outputs": [
    {
     "data": {
      "text/plain": "  Postal Code   Latitude  Longitude\n0         M1B  43.806686 -79.194353\n1         M1C  43.784535 -79.160497\n2         M1E  43.763573 -79.188711\n3         M1G  43.770992 -79.216917\n4         M1H  43.773136 -79.239476",
      "text/html": "<div>\n<style scoped>\n    .dataframe tbody tr th:only-of-type {\n        vertical-align: middle;\n    }\n\n    .dataframe tbody tr th {\n        vertical-align: top;\n    }\n\n    .dataframe thead th {\n        text-align: right;\n    }\n</style>\n<table border=\"1\" class=\"dataframe\">\n  <thead>\n    <tr style=\"text-align: right;\">\n      <th></th>\n      <th>Postal Code</th>\n      <th>Latitude</th>\n      <th>Longitude</th>\n    </tr>\n  </thead>\n  <tbody>\n    <tr>\n      <th>0</th>\n      <td>M1B</td>\n      <td>43.806686</td>\n      <td>-79.194353</td>\n    </tr>\n    <tr>\n      <th>1</th>\n      <td>M1C</td>\n      <td>43.784535</td>\n      <td>-79.160497</td>\n    </tr>\n    <tr>\n      <th>2</th>\n      <td>M1E</td>\n      <td>43.763573</td>\n      <td>-79.188711</td>\n    </tr>\n    <tr>\n      <th>3</th>\n      <td>M1G</td>\n      <td>43.770992</td>\n      <td>-79.216917</td>\n    </tr>\n    <tr>\n      <th>4</th>\n      <td>M1H</td>\n      <td>43.773136</td>\n      <td>-79.239476</td>\n    </tr>\n  </tbody>\n</table>\n</div>"
     },
     "metadata": {},
     "output_type": "execute_result",
     "execution_count": 5
    }
   ],
   "source": [
    "locations = pd.read_csv('http://cocl.us/Geospatial_data')\n",
    "\n",
    "locations.head()"
   ],
   "metadata": {
    "collapsed": false,
    "pycharm": {
     "name": "#%%\n",
     "is_executing": false
    }
   }
  },
  {
   "cell_type": "markdown",
   "source": [
    "Add 2 new columns [Latitude, Longitude] from location to df_cleaned dataframe."
   ],
   "metadata": {
    "collapsed": false
   }
  },
  {
   "cell_type": "code",
   "execution_count": 6,
   "outputs": [
    {
     "data": {
      "text/plain": "  Postcode           Borough                     Neighbourhood   Latitude  \\\n0      M3A        North York                         Parkwoods  43.753259   \n1      M4A        North York                  Victoria Village  43.725882   \n2      M5A  Downtown Toronto         Harbourfront, Regent Park  43.654260   \n3      M6A        North York  Lawrence Heights, Lawrence Manor  43.718518   \n4      M7A      Queen's Park                      Not assigned  43.662301   \n\n   Longitude  \n0 -79.329656  \n1 -79.315572  \n2 -79.360636  \n3 -79.464763  \n4 -79.389494  ",
      "text/html": "<div>\n<style scoped>\n    .dataframe tbody tr th:only-of-type {\n        vertical-align: middle;\n    }\n\n    .dataframe tbody tr th {\n        vertical-align: top;\n    }\n\n    .dataframe thead th {\n        text-align: right;\n    }\n</style>\n<table border=\"1\" class=\"dataframe\">\n  <thead>\n    <tr style=\"text-align: right;\">\n      <th></th>\n      <th>Postcode</th>\n      <th>Borough</th>\n      <th>Neighbourhood</th>\n      <th>Latitude</th>\n      <th>Longitude</th>\n    </tr>\n  </thead>\n  <tbody>\n    <tr>\n      <th>0</th>\n      <td>M3A</td>\n      <td>North York</td>\n      <td>Parkwoods</td>\n      <td>43.753259</td>\n      <td>-79.329656</td>\n    </tr>\n    <tr>\n      <th>1</th>\n      <td>M4A</td>\n      <td>North York</td>\n      <td>Victoria Village</td>\n      <td>43.725882</td>\n      <td>-79.315572</td>\n    </tr>\n    <tr>\n      <th>2</th>\n      <td>M5A</td>\n      <td>Downtown Toronto</td>\n      <td>Harbourfront, Regent Park</td>\n      <td>43.654260</td>\n      <td>-79.360636</td>\n    </tr>\n    <tr>\n      <th>3</th>\n      <td>M6A</td>\n      <td>North York</td>\n      <td>Lawrence Heights, Lawrence Manor</td>\n      <td>43.718518</td>\n      <td>-79.464763</td>\n    </tr>\n    <tr>\n      <th>4</th>\n      <td>M7A</td>\n      <td>Queen's Park</td>\n      <td>Not assigned</td>\n      <td>43.662301</td>\n      <td>-79.389494</td>\n    </tr>\n  </tbody>\n</table>\n</div>"
     },
     "metadata": {},
     "output_type": "execute_result",
     "execution_count": 6
    }
   ],
   "source": [
    "df_cleaned['Latitude']= [locations[locations['Postal Code'] == x].iloc[0,1] for x in postcodes]\n",
    "df_cleaned['Longitude']= [locations[locations['Postal Code'] == x].iloc[0,2] for x in postcodes]\n",
    "df_cleaned.head()\n",
    "\n"
   ],
   "metadata": {
    "collapsed": false,
    "pycharm": {
     "name": "#%%\n",
     "is_executing": false
    }
   }
  },
  {
   "cell_type": "code",
   "execution_count": 7,
   "outputs": [
    {
     "name": "stdout",
     "text": [
      "The number of (rows,cols) for [df_cleaned] : (103, 5) \n"
     ],
     "output_type": "stream"
    }
   ],
   "source": [
    "print(f'The number of (rows,cols) for [df_cleaned] : {df_cleaned.shape} ')\n",
    "\n"
   ],
   "metadata": {
    "collapsed": false,
    "pycharm": {
     "name": "#%%\n",
     "is_executing": false
    }
   }
  },
  {
   "cell_type": "markdown",
   "source": [
    "\n",
    "To get the geographical coordinates of Torrento"
   ],
   "metadata": {
    "collapsed": false
   }
  },
  {
   "cell_type": "code",
   "execution_count": 8,
   "outputs": [
    {
     "name": "stdout",
     "text": [
      "The geograpical coordinate of Manhattan are 43.653963, -79.387207.\n"
     ],
     "output_type": "stream"
    }
   ],
   "source": [
    "address = 'Toronto'\n",
    "\n",
    "geolocator = Nominatim(user_agent=\"ny_explorer\")\n",
    "location = geolocator.geocode(address)\n",
    "latitude = location.latitude\n",
    "longitude = location.longitude\n",
    "print('The geograpical coordinate of Manhattan are {}, {}.'.format(latitude, longitude))\n",
    "\n"
   ],
   "metadata": {
    "collapsed": false,
    "pycharm": {
     "name": "#%%\n",
     "is_executing": false
    }
   }
  },
  {
   "cell_type": "markdown",
   "source": [
    "\n",
    "Create a map of Toronto with neighborhoods superimposed on top"
   ],
   "metadata": {
    "collapsed": false
   }
  },
  {
   "cell_type": "code",
   "execution_count": 9,
   "outputs": [
    {
     "data": {
      "text/plain": "<folium.folium.Map at 0x7f9023eec750>",
      "text/html": "<div style=\"width:100%;\"><div style=\"position:relative;width:100%;height:0;padding-bottom:60%;\"><iframe src=\"data:text/html;charset=utf-8;base64,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\" style=\"position:absolute;width:100%;height:100%;left:0;top:0;border:none !important;\" allowfullscreen webkitallowfullscreen mozallowfullscreen></iframe></div></div>"
     },
     "metadata": {},
     "output_type": "execute_result",
     "execution_count": 9
    }
   ],
   "source": [
    "# create map of New York using latitude and longitude values\n",
    "map_toronto = folium.Map(location=[latitude, longitude], zoom_start=10)\n",
    "\n",
    "# add markers to map\n",
    "for lat, lng, borough, neighborhood in zip(df_cleaned['Latitude'], \n",
    "                                           df_cleaned['Longitude'],\n",
    "                                           df_cleaned['Borough'],\n",
    "                                           df_cleaned['Neighbourhood']):\n",
    "    label = '{}, {}'.format(neighborhood, borough)\n",
    "    label = folium.Popup(label, parse_html=True)\n",
    "    folium.CircleMarker(\n",
    "        [lat, lng],\n",
    "        radius=5,\n",
    "        popup=label,\n",
    "        color='blue',\n",
    "        fill=True,\n",
    "        fill_color='#3186cc',\n",
    "        fill_opacity=0.7,\n",
    "        parse_html=False).add_to(map_toronto)  \n",
    "    \n",
    "map_toronto"
   ],
   "metadata": {
    "collapsed": false,
    "pycharm": {
     "name": "#%%\n",
     "is_executing": false
    }
   }
  },
  {
   "cell_type": "code",
   "execution_count": 10,
   "outputs": [
    {
     "data": {
      "text/plain": "  Postcode     Borough                     Neighbourhood   Latitude  Longitude\n0      M3A  North York                         Parkwoods  43.753259 -79.329656\n1      M4A  North York                  Victoria Village  43.725882 -79.315572\n2      M6A  North York  Lawrence Heights, Lawrence Manor  43.718518 -79.464763\n3      M3B  North York                   Don Mills North  43.745906 -79.352188\n4      M6B  North York                         Glencairn  43.709577 -79.445073",
      "text/html": "<div>\n<style scoped>\n    .dataframe tbody tr th:only-of-type {\n        vertical-align: middle;\n    }\n\n    .dataframe tbody tr th {\n        vertical-align: top;\n    }\n\n    .dataframe thead th {\n        text-align: right;\n    }\n</style>\n<table border=\"1\" class=\"dataframe\">\n  <thead>\n    <tr style=\"text-align: right;\">\n      <th></th>\n      <th>Postcode</th>\n      <th>Borough</th>\n      <th>Neighbourhood</th>\n      <th>Latitude</th>\n      <th>Longitude</th>\n    </tr>\n  </thead>\n  <tbody>\n    <tr>\n      <th>0</th>\n      <td>M3A</td>\n      <td>North York</td>\n      <td>Parkwoods</td>\n      <td>43.753259</td>\n      <td>-79.329656</td>\n    </tr>\n    <tr>\n      <th>1</th>\n      <td>M4A</td>\n      <td>North York</td>\n      <td>Victoria Village</td>\n      <td>43.725882</td>\n      <td>-79.315572</td>\n    </tr>\n    <tr>\n      <th>2</th>\n      <td>M6A</td>\n      <td>North York</td>\n      <td>Lawrence Heights, Lawrence Manor</td>\n      <td>43.718518</td>\n      <td>-79.464763</td>\n    </tr>\n    <tr>\n      <th>3</th>\n      <td>M3B</td>\n      <td>North York</td>\n      <td>Don Mills North</td>\n      <td>43.745906</td>\n      <td>-79.352188</td>\n    </tr>\n    <tr>\n      <th>4</th>\n      <td>M6B</td>\n      <td>North York</td>\n      <td>Glencairn</td>\n      <td>43.709577</td>\n      <td>-79.445073</td>\n    </tr>\n  </tbody>\n</table>\n</div>"
     },
     "metadata": {},
     "output_type": "execute_result",
     "execution_count": 10
    }
   ],
   "source": [
    "toronto_data = df_cleaned[df_cleaned['Borough'] == 'North York'].reset_index(drop=True)\n",
    "toronto_data.head()"
   ],
   "metadata": {
    "collapsed": false,
    "pycharm": {
     "name": "#%%\n",
     "is_executing": false
    }
   }
  },
  {
   "cell_type": "markdown",
   "source": [
    "Define Foursquare Credentials and Version."
   ],
   "metadata": {
    "collapsed": false
   }
  },
  {
   "cell_type": "code",
   "execution_count": 21,
   "outputs": [
    {
     "name": "stdout",
     "text": [
      "Your credentails:\nCLIENT_ID: 5T2GGWMMZXTOSAYESR0ZQHUT0PPPY31ZGXMZBIKNCDBALKR3\nCLIENT_SECRET:FDPDARQ4AZD3XAV235TPLHGGGUKUMLQOUAMTFOJVIXDOHSAM\n"
     ],
     "output_type": "stream"
    }
   ],
   "source": [
    "CLIENT_ID = '5T2GGWMMZXTOSAYESR0ZQHUT0PPPY31ZGXMZBIKNCDBALKR3' # your Foursquare ID\n",
    "CLIENT_SECRET = 'FDPDARQ4AZD3XAV235TPLHGGGUKUMLQOUAMTFOJVIXDOHSAM' # your Foursquare Secret\n",
    "VERSION = '20180605' # Foursquare API version\n",
    "\n",
    "print('Your credentails:')\n",
    "print('CLIENT_ID: ' + CLIENT_ID)\n",
    "print('CLIENT_SECRET:' + CLIENT_SECRET)\n",
    "\n"
   ],
   "metadata": {
    "collapsed": false,
    "pycharm": {
     "name": "#%%\n",
     "is_executing": false
    }
   }
  },
  {
   "cell_type": "markdown",
   "source": [
    "\n",
    "x"
   ],
   "metadata": {
    "collapsed": false
   }
  },
  {
   "cell_type": "code",
   "execution_count": 22,
   "outputs": [
    {
     "data": {
      "text/plain": "'https://api.foursquare.com/v2/venues/explore?&client_id=5T2GGWMMZXTOSAYESR0ZQHUT0PPPY31ZGXMZBIKNCDBALKR3&client_secret=FDPDARQ4AZD3XAV235TPLHGGGUKUMLQOUAMTFOJVIXDOHSAM&v=20180605&ll=43.725882299999995,-79.31557159999998&radius=500&limit=100'"
     },
     "metadata": {},
     "output_type": "execute_result",
     "execution_count": 22
    }
   ],
   "source": [
    "# type your answer here\n",
    "\n",
    "LIMIT = 100 # limit of number of venues returned by Foursquare API\n",
    "\n",
    "radius = 500 # define radius\n",
    "\n",
    "# create URL\n",
    "url = 'https://api.foursquare.com/v2/venues/explore?&client_id={}&client_secret={}&v={}&ll={},{}&radius={}&limit={}'.format(\n",
    "    CLIENT_ID, \n",
    "    CLIENT_SECRET, \n",
    "    VERSION, \n",
    "    df_cleaned.loc[1,'Latitude'], \n",
    "    df_cleaned.loc[1,'Longitude'], \n",
    "    radius, \n",
    "    LIMIT)\n",
    "url # display URL"
   ],
   "metadata": {
    "collapsed": false,
    "pycharm": {
     "name": "#%%\n",
     "is_executing": false
    }
   }
  },
  {
   "cell_type": "code",
   "execution_count": 23,
   "outputs": [
    {
     "data": {
      "text/plain": "{'meta': {'code': 429,\n  'errorType': 'quota_exceeded',\n  'errorDetail': 'Quota exceeded',\n  'requestId': '5d766331f1110b0039666a41'},\n 'response': {}}"
     },
     "metadata": {},
     "output_type": "execute_result",
     "execution_count": 23
    }
   ],
   "source": [
    "results = requests.get(url).json()\n",
    "results"
   ],
   "metadata": {
    "collapsed": false,
    "pycharm": {
     "name": "#%%\n",
     "is_executing": false
    }
   }
  },
  {
   "cell_type": "markdown",
   "source": [
    "\n",
    "create a function to find venues for each Neighbourhood."
   ],
   "metadata": {
    "collapsed": false
   }
  },
  {
   "cell_type": "code",
   "execution_count": 14,
   "outputs": [],
   "source": [
    "def getNearbyVenues(names, latitudes, longitudes, radius=500):\n",
    "    \n",
    "    venues_list=[]\n",
    "    for name, lat, lng in zip(names, latitudes, longitudes):\n",
    "        print(name)\n",
    "            \n",
    "        # create the API request URL\n",
    "        url = 'https://api.foursquare.com/v2/venues/explore?&client_id=' \\\n",
    "              '{}&client_secret={}&v={}&ll={},{}&radius={}&limit={}'.format(\n",
    "            CLIENT_ID, \n",
    "            CLIENT_SECRET, \n",
    "            VERSION, \n",
    "            lat, \n",
    "            lng, \n",
    "            radius, \n",
    "            LIMIT)\n",
    "            \n",
    "        # make the GET request\n",
    "        results = requests.get(url).json()[\"response\"]['groups'][0]['items']\n",
    "        \n",
    "        # return only relevant information for each nearby venue\n",
    "        venues_list.append([(\n",
    "            name, \n",
    "            lat, \n",
    "            lng, \n",
    "            v['venue']['name'], \n",
    "            v['venue']['location']['lat'], \n",
    "            v['venue']['location']['lng'],  \n",
    "            v['venue']['categories'][0]['name']) for v in results])\n",
    "\n",
    "    nearby_venues = pd.DataFrame([item for venue_list in venues_list for item in venue_list])\n",
    "    nearby_venues.columns = ['Neighborhood', \n",
    "                  'Neighborhood Latitude', \n",
    "                  'Neighborhood Longitude', \n",
    "                  'Venue', \n",
    "                  'Venue Latitude', \n",
    "                  'Venue Longitude', \n",
    "                  'Venue Category']\n",
    "    \n",
    "    return(nearby_venues)"
   ],
   "metadata": {
    "collapsed": false,
    "pycharm": {
     "name": "#%%\n",
     "is_executing": false
    }
   }
  },
  {
   "cell_type": "code",
   "execution_count": 16,
   "outputs": [
    {
     "name": "stdout",
     "text": [
      "Parkwoods\n"
     ],
     "output_type": "stream"
    },
    {
     "traceback": [
      "\u001b[0;31m---------------------------------------------------------------------------\u001b[0m",
      "\u001b[0;31mKeyError\u001b[0m                                  Traceback (most recent call last)",
      "\u001b[0;32m<ipython-input-16-5e391937a863>\u001b[0m in \u001b[0;36m<module>\u001b[0;34m\u001b[0m\n\u001b[1;32m      1\u001b[0m toronto_venues = getNearbyVenues(names=df_cleaned['Neighbourhood'],\n\u001b[1;32m      2\u001b[0m                                    \u001b[0mlatitudes\u001b[0m\u001b[0;34m=\u001b[0m\u001b[0mdf_cleaned\u001b[0m\u001b[0;34m[\u001b[0m\u001b[0;34m'Latitude'\u001b[0m\u001b[0;34m]\u001b[0m\u001b[0;34m,\u001b[0m\u001b[0;34m\u001b[0m\u001b[0;34m\u001b[0m\u001b[0m\n\u001b[0;32m----> 3\u001b[0;31m                                    \u001b[0mlongitudes\u001b[0m\u001b[0;34m=\u001b[0m\u001b[0mdf_cleaned\u001b[0m\u001b[0;34m[\u001b[0m\u001b[0;34m'Longitude'\u001b[0m\u001b[0;34m]\u001b[0m\u001b[0;34m\u001b[0m\u001b[0;34m\u001b[0m\u001b[0m\n\u001b[0m\u001b[1;32m      4\u001b[0m                                   )\n\u001b[1;32m      5\u001b[0m \u001b[0;34m\u001b[0m\u001b[0m\n",
      "\u001b[0;32m<ipython-input-14-23ef47dc5fb4>\u001b[0m in \u001b[0;36mgetNearbyVenues\u001b[0;34m(names, latitudes, longitudes, radius)\u001b[0m\n\u001b[1;32m     17\u001b[0m \u001b[0;34m\u001b[0m\u001b[0m\n\u001b[1;32m     18\u001b[0m         \u001b[0;31m# make the GET request\u001b[0m\u001b[0;34m\u001b[0m\u001b[0;34m\u001b[0m\u001b[0;34m\u001b[0m\u001b[0m\n\u001b[0;32m---> 19\u001b[0;31m         \u001b[0mresults\u001b[0m \u001b[0;34m=\u001b[0m \u001b[0mrequests\u001b[0m\u001b[0;34m.\u001b[0m\u001b[0mget\u001b[0m\u001b[0;34m(\u001b[0m\u001b[0murl\u001b[0m\u001b[0;34m)\u001b[0m\u001b[0;34m.\u001b[0m\u001b[0mjson\u001b[0m\u001b[0;34m(\u001b[0m\u001b[0;34m)\u001b[0m\u001b[0;34m[\u001b[0m\u001b[0;34m\"response\"\u001b[0m\u001b[0;34m]\u001b[0m\u001b[0;34m[\u001b[0m\u001b[0;34m'groups'\u001b[0m\u001b[0;34m]\u001b[0m\u001b[0;34m[\u001b[0m\u001b[0;36m0\u001b[0m\u001b[0;34m]\u001b[0m\u001b[0;34m[\u001b[0m\u001b[0;34m'items'\u001b[0m\u001b[0;34m]\u001b[0m\u001b[0;34m\u001b[0m\u001b[0;34m\u001b[0m\u001b[0m\n\u001b[0m\u001b[1;32m     20\u001b[0m \u001b[0;34m\u001b[0m\u001b[0m\n\u001b[1;32m     21\u001b[0m         \u001b[0;31m# return only relevant information for each nearby venue\u001b[0m\u001b[0;34m\u001b[0m\u001b[0;34m\u001b[0m\u001b[0;34m\u001b[0m\u001b[0m\n",
      "\u001b[0;31mKeyError\u001b[0m: 'groups'"
     ],
     "ename": "KeyError",
     "evalue": "'groups'",
     "output_type": "error"
    }
   ],
   "source": [
    "toronto_venues = getNearbyVenues(names=df_cleaned['Neighbourhood'],\n",
    "                                   latitudes=df_cleaned['Latitude'],\n",
    "                                   longitudes=df_cleaned['Longitude']\n",
    "                                  )\n",
    "\n"
   ],
   "metadata": {
    "collapsed": false,
    "pycharm": {
     "name": "#%%\n",
     "is_executing": false
    }
   }
  },
  {
   "cell_type": "markdown",
   "source": [
    "Let's check the size of the resulting dataframe"
   ],
   "metadata": {
    "collapsed": false
   }
  },
  {
   "cell_type": "code",
   "execution_count": null,
   "outputs": [],
   "source": [
    "\n",
    "print(toronto_venues.shape)\n",
    "toronto_venues.head()"
   ],
   "metadata": {
    "collapsed": false,
    "pycharm": {
     "name": "#%%\n",
     "is_executing": false
    }
   }
  },
  {
   "cell_type": "code",
   "execution_count": null,
   "outputs": [],
   "source": [
    "toronto_venues.groupby('Neighborhood').count()"
   ],
   "metadata": {
    "collapsed": false,
    "pycharm": {
     "name": "#%%\n",
     "is_executing": false
    }
   }
  },
  {
   "cell_type": "markdown",
   "source": [
    "\n",
    "Find out how many unique categories can be curated from all the returned venues"
   ],
   "metadata": {
    "collapsed": false
   }
  },
  {
   "cell_type": "code",
   "execution_count": null,
   "outputs": [],
   "source": [
    "# print('There are {} uniques categories.'.format(len(toronto_venues['Venue Category'].unique())))\n"
   ],
   "metadata": {
    "collapsed": false,
    "pycharm": {
     "name": "#%%\n",
     "is_executing": false
    }
   }
  },
  {
   "cell_type": "markdown",
   "source": [
    "\n",
    "Analyze Each Neighborhood."
   ],
   "metadata": {
    "collapsed": false
   }
  },
  {
   "cell_type": "code",
   "execution_count": null,
   "outputs": [],
   "source": [
    "# one hot encoding\n",
    "toronto_onehot = pd.get_dummies(toronto_venues[['Venue Category']], prefix=\"\", prefix_sep=\"\")\n",
    "\n",
    "# add neighborhood column back to dataframe\n",
    "toronto_onehot['Neighborhood'] = toronto_venues['Neighborhood'] \n",
    "\n",
    "fixed_columns = [col for col in toronto_onehot.columns if col != 'Neighborhood' ]\n",
    "fixed_columns =  ['Neighborhood'] + fixed_columns        \n",
    "toronto_onehot = toronto_onehot[fixed_columns]\n",
    "\n",
    "toronto_onehot.head()\n"
   ],
   "metadata": {
    "collapsed": false,
    "pycharm": {
     "name": "#%%\n",
     "is_executing": false
    }
   }
  },
  {
   "cell_type": "markdown",
   "source": [
    "Grouping rows by neighborhood."
   ],
   "metadata": {
    "collapsed": false
   }
  },
  {
   "cell_type": "code",
   "execution_count": null,
   "outputs": [],
   "source": [
    "toronto_onehot.shape"
   ],
   "metadata": {
    "collapsed": false,
    "pycharm": {
     "name": "#%%\n",
     "is_executing": false
    }
   }
  },
  {
   "cell_type": "code",
   "execution_count": null,
   "outputs": [],
   "source": [
    "toronto_grouped = toronto_onehot.groupby('Neighborhood').mean().reset_index()\n",
    "toronto_grouped"
   ],
   "metadata": {
    "collapsed": false,
    "pycharm": {
     "name": "#%%\n",
     "is_executing": false
    }
   }
  },
  {
   "cell_type": "markdown",
   "source": [
    "\n",
    "Print each neighborhood\n"
   ],
   "metadata": {
    "collapsed": false
   }
  },
  {
   "cell_type": "code",
   "execution_count": null,
   "outputs": [],
   "source": [
    "num_top_venues = 5\n",
    "\n",
    "for hood in toronto_grouped['Neighborhood']:\n",
    "    print(\"----\"+hood+\"----\")\n",
    "    temp = toronto_grouped[toronto_grouped['Neighborhood'] == hood].T.reset_index()\n",
    "    temp.columns = ['venue','freq']\n",
    "    temp = temp.iloc[1:]\n",
    "    temp['freq'] = temp['freq'].astype(float)\n",
    "    temp = temp.round({'freq': 2})\n",
    "    print(temp.sort_values('freq', ascending=False).reset_index(drop=True).head(num_top_venues))\n",
    "    print('\\n')"
   ],
   "metadata": {
    "collapsed": false,
    "pycharm": {
     "name": "#%%\n",
     "is_executing": false
    }
   }
  },
  {
   "cell_type": "markdown",
   "source": [
    "\n",
    "Write a function to sort the venues in descending order."
   ],
   "metadata": {
    "collapsed": false
   }
  },
  {
   "cell_type": "code",
   "execution_count": null,
   "outputs": [],
   "source": [
    "def return_most_common_venues(row, num_top_venues):\n",
    "    row_categories = row.iloc[1:]\n",
    "    row_categories_sorted = row_categories.sort_values(ascending=False)\n",
    "    \n",
    "    return row_categories_sorted.index.values[0:num_top_venues]"
   ],
   "metadata": {
    "collapsed": false,
    "pycharm": {
     "name": "#%%\n",
     "is_executing": false
    }
   }
  },
  {
   "cell_type": "markdown",
   "source": [
    "\n",
    "Create the new dataframe and display the top 10 venues for each neighborhood."
   ],
   "metadata": {
    "collapsed": false
   }
  },
  {
   "cell_type": "code",
   "execution_count": null,
   "outputs": [],
   "source": [
    "num_top_venues = 10\n",
    "\n",
    "indicators = ['st', 'nd', 'rd']\n",
    "\n",
    "# create columns according to number of top venues\n",
    "columns = ['Neighborhood']\n",
    "for ind in np.arange(num_top_venues):\n",
    "    try:\n",
    "        columns.append('{}{} Most Common Venue'.format(ind+1, indicators[ind]))\n",
    "    except:\n",
    "        columns.append('{}th Most Common Venue'.format(ind+1))\n",
    "\n",
    "# create a new dataframe\n",
    "neighborhoods_venues_sorted = pd.DataFrame(columns=columns)\n",
    "neighborhoods_venues_sorted['Neighborhood'] = toronto_grouped['Neighborhood']\n",
    "\n",
    "for ind in np.arange(toronto_grouped.shape[0]):\n",
    "    neighborhoods_venues_sorted.iloc[ind, 1:] = return_most_common_venues(toronto_grouped.iloc[ind, :], num_top_venues)\n",
    "\n",
    "neighborhoods_venues_sorted.head()"
   ],
   "metadata": {
    "collapsed": false,
    "pycharm": {
     "name": "#%%\n",
     "is_executing": false
    }
   }
  },
  {
   "cell_type": "markdown",
   "source": [
    "\n",
    "Cluster Neighborhoods."
   ],
   "metadata": {
    "collapsed": false
   }
  },
  {
   "cell_type": "code",
   "execution_count": null,
   "outputs": [],
   "source": [
    "# set number of clusters\n",
    "kclusters = 5\n",
    "\n",
    "toronto_grouped_clustering = toronto_grouped.drop('Neighborhood', 1)\n",
    "\n",
    "# run k-means clustering\n",
    "kmeans = KMeans(n_clusters=kclusters, random_state=0).fit(toronto_grouped_clustering)\n",
    "\n",
    "# check cluster labels generated for each row in the dataframe\n",
    "kmeans.labels_[0:10] \n"
   ],
   "metadata": {
    "collapsed": false,
    "pycharm": {
     "name": "#%%\n",
     "is_executing": false
    }
   }
  },
  {
   "cell_type": "code",
   "execution_count": null,
   "outputs": [],
   "source": [
    "# add clustering labels\n",
    "neighborhoods_venues_sorted.insert(0, 'Cluster Labels', kmeans.labels_)\n",
    "\n",
    "toronto_merged = toronto_data.drop('Postcode',1)\n",
    "\n",
    "# merge toronto_grouped with toronto_data to add latitude/longitude for each neighborhood\n",
    "toronto_merged = toronto_merged.join(neighborhoods_venues_sorted.set_index('Neighborhood'), on='Neighbourhood')\n",
    "toronto_merged = toronto_merged.drop([16])\n",
    "toronto_merged.head() # check the last columns!"
   ],
   "metadata": {
    "collapsed": false,
    "pycharm": {
     "name": "#%%\n",
     "is_executing": false
    }
   }
  },
  {
   "cell_type": "code",
   "execution_count": null,
   "outputs": [],
   "source": [
    "# create map\n",
    "map_clusters = folium.Map(location=[latitude, longitude], zoom_start=11)\n",
    "\n",
    "# set color scheme for the clusters\n",
    "x = np.arange(kclusters)\n",
    "ys = [i + x + (i*x)**2 for i in range(kclusters)]\n",
    "colors_array = cm.rainbow(np.linspace(0, 1, len(ys)))\n",
    "rainbow = [colors.rgb2hex(i) for i in colors_array]\n",
    "\n",
    "# add markers to the map\n",
    "markers_colors = []\n",
    "for lat, lon, poi, cluster in zip(toronto_merged['Latitude'], toronto_merged['Longitude'],\n",
    "                                  toronto_merged['Neighbourhood'],toronto_merged['Cluster Labels'].astype(int)):\n",
    "    \n",
    "    label = folium.Popup(str(poi) + ' Cluster ' + str(cluster), parse_html=True)\n",
    "    folium.CircleMarker(\n",
    "        [lat, lon],\n",
    "        radius=5,\n",
    "        popup=label,\n",
    "        color=rainbow[cluster-1],\n",
    "        fill=True,\n",
    "        fill_color=rainbow[cluster-1],\n",
    "        fill_opacity=0.7).add_to(map_clusters)\n",
    "\n",
    "        \n",
    "map_clusters\n"
   ],
   "metadata": {
    "collapsed": false,
    "pycharm": {
     "name": "#%%\n",
     "is_executing": false
    }
   }
  }
 ],
 "metadata": {
  "kernelspec": {
   "display_name": "Python 3",
   "language": "python",
   "name": "python3"
  },
  "language_info": {
   "codemirror_mode": {
    "name": "ipython",
    "version": 3
   },
   "file_extension": ".py",
   "mimetype": "text/x-python",
   "name": "python",
   "nbconvert_exporter": "python",
   "pygments_lexer": "ipython3",
   "version": "3.7.4"
  },
  "pycharm": {
   "stem_cell": {
    "cell_type": "raw",
    "source": [],
    "metadata": {
     "collapsed": false
    }
   }
  }
 },
 "nbformat": 4,
 "nbformat_minor": 1
}