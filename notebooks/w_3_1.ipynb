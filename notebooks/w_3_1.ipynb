{
 "cells": [
  {
   "cell_type": "code",
   "execution_count": 129,
   "metadata": {
    "collapsed": true,
    "pycharm": {
     "is_executing": false
    }
   },
   "outputs": [],
   "source": [
    "import pandas as pd"
   ]
  },
  {
   "cell_type": "markdown",
   "source": [
    "1 . To import the table (Scrape) from  Wikipedia page and build Dataframe. "
   ],
   "metadata": {
    "collapsed": false
   }
  },
  {
   "cell_type": "code",
   "execution_count": 130,
   "outputs": [
    {
     "name": "stdout",
     "text": [
      "The number of (rows,cols) for [df] : (288, 3) \n"
     ],
     "output_type": "stream"
    }
   ],
   "source": [
    "df = pd.read_html(\"https://en.wikipedia.org/wiki/List_of_postal_codes_of_Canada:_M\")[0]\n",
    "print(f'The number of (rows,cols) for [df] : {df.shape} ')"
   ],
   "metadata": {
    "collapsed": false,
    "pycharm": {
     "name": "#%%\n",
     "is_executing": false
    }
   }
  },
  {
   "cell_type": "markdown",
   "source": [
    "2. Ignore cells with a borough that is Not assigned."
   ],
   "metadata": {
    "collapsed": false,
    "pycharm": {
     "name": "#%% md\n"
    }
   }
  },
  {
   "cell_type": "code",
   "execution_count": 131,
   "outputs": [
    {
     "name": "stdout",
     "text": [
      "The number of (rows,cols) for [df1] : (211, 3) \n"
     ],
     "output_type": "stream"
    }
   ],
   "source": [
    "df1 = df[df['Borough'] != 'Not assigned']\n",
    "\n",
    "postcodes = df1['Postcode'].unique()\n",
    "print(f'The number of (rows,cols) for [df1] : {df1.shape} ')"
   ],
   "metadata": {
    "collapsed": false,
    "pycharm": {
     "name": "#%%\n",
     "is_executing": false
    }
   }
  },
  {
   "cell_type": "markdown",
   "source": [
    "3. To combine all neighborhoods for the same postcode in same row separated with comma."
   ],
   "metadata": {
    "collapsed": false
   }
  },
  {
   "cell_type": "code",
   "execution_count": 132,
   "outputs": [
    {
     "name": "stdout",
     "text": [
      "The number of (rows,cols) for [df_cleaned] : (103, 3) \n"
     ],
     "output_type": "stream"
    },
    {
     "name": "stderr",
     "text": [
      "/home/yahya/anaconda3/envs/capstone_project_data_science/lib/python3.7/site-packages/ipykernel_launcher.py:9: SettingWithCopyWarning: \nA value is trying to be set on a copy of a slice from a DataFrame\n\nSee the caveats in the documentation: http://pandas.pydata.org/pandas-docs/stable/user_guide/indexing.html#returning-a-view-versus-a-copy\n  if __name__ == '__main__':\n"
     ],
     "output_type": "stream"
    }
   ],
   "source": [
    "df_cleaned = pd.DataFrame({'Postcode':postcodes,\n",
    "                     'Borough':[df1[df1['Postcode']==x].iloc[0,1]for x in postcodes ]})\n",
    "post_list = []\n",
    "postcode_joined = None\n",
    "for postcode in postcodes:\n",
    "    df_cond = df1[df1['Postcode'] == postcode]\n",
    "    # if neighborhood is  \"Not assigned\" then change it to be same as borough. \n",
    "    if str(df_cond.iloc[0,2]) == 'Not assigned':\n",
    "        df1[df1['Postcode'] == postcode].iloc[0,2] = df_cond.iloc[0,1]\n",
    "        \n",
    "    length = len(df1[df1['Postcode'] == postcode])\n",
    "    for val in range(0,length):\n",
    "        \n",
    "        if val == 0:\n",
    "            postcode_joined = str(df1[df1['Postcode'] == postcode].iloc[0,2])\n",
    "        else:\n",
    "            postcode_joined += ', '+ str(df1[df1['Postcode'] == postcode].iloc[val,2])\n",
    "    post_list.append(postcode_joined)\n",
    "\n",
    "df_cleaned['Neighbourhood'] = post_list              \n",
    "print(f'The number of (rows,cols) for [df_cleaned] : {df_cleaned.shape} ')\n",
    "\n"
   ],
   "metadata": {
    "collapsed": false,
    "pycharm": {
     "name": "#%%\n",
     "is_executing": false
    }
   }
  }
 ],
 "metadata": {
  "language_info": {
   "codemirror_mode": {
    "name": "ipython",
    "version": 2
   },
   "file_extension": ".py",
   "mimetype": "text/x-python",
   "name": "python",
   "nbconvert_exporter": "python",
   "pygments_lexer": "ipython2",
   "version": "2.7.6"
  },
  "kernelspec": {
   "name": "python3",
   "language": "python",
   "display_name": "Python 3"
  },
  "pycharm": {
   "stem_cell": {
    "cell_type": "raw",
    "source": [],
    "metadata": {
     "collapsed": false
    }
   }
  }
 },
 "nbformat": 4,
 "nbformat_minor": 0
}